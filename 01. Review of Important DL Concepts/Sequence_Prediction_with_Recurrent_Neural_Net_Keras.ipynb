{
  "nbformat": 4,
  "nbformat_minor": 0,
  "metadata": {
    "colab": {
      "name": "Sequence_Prediction_with_Recurrent_Neural_Net_Keras.ipynb",
      "provenance": [],
      "collapsed_sections": []
    },
    "kernelspec": {
      "name": "python3",
      "display_name": "Python 3"
    }
  },
  "cells": [
    {
      "cell_type": "markdown",
      "metadata": {
        "id": "i8jYi722GD1m"
      },
      "source": [
        "# Sequence Prediction with Recurrent Neural Network\n",
        "\n",
        "### RNN Example with Keras SimpleRNN\n",
        "\n",
        "Recurrent Neural Network models can be easily built in a Keras API. We'll learn how to build an RNN model with a keras SimpleRNN() layer. SimpleRNN is a Fully-connected RNN where the output is to be fed back to input. \n",
        "\n",
        "***In this notebook we solve a sequence prediction problem with RNN.***"
      ]
    },
    {
      "cell_type": "markdown",
      "metadata": {
        "id": "y-ZHP3Quu1gn"
      },
      "source": [
        "### We need to perform the following steps:\n",
        "\n",
        "##### Generating sample dataset\n",
        "\n",
        "##### Preparing data (reshaping)\n",
        "\n",
        "##### Building a model with SimpleRNN\n",
        "\n",
        "##### Predicting and plotting results\n"
      ]
    },
    {
      "cell_type": "markdown",
      "metadata": {
        "id": "3Ma8Q86aoqtf"
      },
      "source": [
        "We'll start by loading the required libraries.\n",
        "\n",
        "## Load Libraries"
      ]
    },
    {
      "cell_type": "code",
      "metadata": {
        "id": "I9aqZbpTFEXA"
      },
      "source": [
        "import pandas as pd\n",
        "import numpy as np\n",
        "import matplotlib.pyplot as plt\n",
        "from keras.models import Sequential\n",
        "from keras.layers import Dense, SimpleRNN"
      ],
      "execution_count": null,
      "outputs": []
    },
    {
      "cell_type": "markdown",
      "metadata": {
        "id": "q2g5u8DHGr2_"
      },
      "source": [
        "## Generating sample dataset\n",
        "\n",
        "We'll generate simple sequence data."
      ]
    },
    {
      "cell_type": "code",
      "metadata": {
        "id": "_4kj2CW5FGo9",
        "colab": {
          "base_uri": "https://localhost:8080/",
          "height": 198
        },
        "outputId": "4083ea3e-858f-4469-934e-a6caa9c0bcac"
      },
      "source": [
        "# Number of data points\n",
        "N = 10000    \n",
        "\n",
        "# Number of data points to be used in training\n",
        "Tp = 8000    \n",
        "\n",
        "t=np.arange(0,N)\n",
        "x=np.sin(0.02*t)+2*np.random.rand(N)\n",
        "df = pd.DataFrame(x)\n",
        "df.head()"
      ],
      "execution_count": null,
      "outputs": [
        {
          "output_type": "execute_result",
          "data": {
            "text/html": [
              "<div>\n",
              "<style scoped>\n",
              "    .dataframe tbody tr th:only-of-type {\n",
              "        vertical-align: middle;\n",
              "    }\n",
              "\n",
              "    .dataframe tbody tr th {\n",
              "        vertical-align: top;\n",
              "    }\n",
              "\n",
              "    .dataframe thead th {\n",
              "        text-align: right;\n",
              "    }\n",
              "</style>\n",
              "<table border=\"1\" class=\"dataframe\">\n",
              "  <thead>\n",
              "    <tr style=\"text-align: right;\">\n",
              "      <th></th>\n",
              "      <th>0</th>\n",
              "    </tr>\n",
              "  </thead>\n",
              "  <tbody>\n",
              "    <tr>\n",
              "      <th>0</th>\n",
              "      <td>1.385530</td>\n",
              "    </tr>\n",
              "    <tr>\n",
              "      <th>1</th>\n",
              "      <td>2.009118</td>\n",
              "    </tr>\n",
              "    <tr>\n",
              "      <th>2</th>\n",
              "      <td>1.759878</td>\n",
              "    </tr>\n",
              "    <tr>\n",
              "      <th>3</th>\n",
              "      <td>1.407066</td>\n",
              "    </tr>\n",
              "    <tr>\n",
              "      <th>4</th>\n",
              "      <td>0.108558</td>\n",
              "    </tr>\n",
              "  </tbody>\n",
              "</table>\n",
              "</div>"
            ],
            "text/plain": [
              "          0\n",
              "0  1.385530\n",
              "1  2.009118\n",
              "2  1.759878\n",
              "3  1.407066\n",
              "4  0.108558"
            ]
          },
          "metadata": {
            "tags": []
          },
          "execution_count": 98
        }
      ]
    },
    {
      "cell_type": "code",
      "metadata": {
        "id": "pX2iz5cNo4OV",
        "colab": {
          "base_uri": "https://localhost:8080/"
        },
        "outputId": "0601db74-de32-45b9-f8bf-cf54eeea0039"
      },
      "source": [
        "df.info"
      ],
      "execution_count": null,
      "outputs": [
        {
          "output_type": "execute_result",
          "data": {
            "text/plain": [
              "<bound method DataFrame.info of              0\n",
              "0     1.385530\n",
              "1     2.009118\n",
              "2     1.759878\n",
              "3     1.407066\n",
              "4     0.108558\n",
              "...        ...\n",
              "9995  0.099093\n",
              "9996  0.609278\n",
              "9997  0.080405\n",
              "9998 -0.109674\n",
              "9999 -0.635779\n",
              "\n",
              "[10000 rows x 1 columns]>"
            ]
          },
          "metadata": {
            "tags": []
          },
          "execution_count": 99
        }
      ]
    },
    {
      "cell_type": "code",
      "metadata": {
        "id": "NEFFO1VxFMqx",
        "colab": {
          "base_uri": "https://localhost:8080/",
          "height": 265
        },
        "outputId": "8a01fffb-368e-469b-d9a1-526c879bc77f"
      },
      "source": [
        "plt.plot(df)\n",
        "plt.show()"
      ],
      "execution_count": null,
      "outputs": [
        {
          "output_type": "display_data",
          "data": {
            "image/png": "[encoded data removed]",
            "text/plain": [
              "<Figure size 432x288 with 1 Axes>"
            ]
          },
          "metadata": {
            "tags": [],
            "needs_background": "light"
          }
        }
      ]
    },
    {
      "cell_type": "markdown",
      "metadata": {
        "id": "uvt8FPStpMAa"
      },
      "source": [
        "## Split Data into Training and Test Set"
      ]
    },
    {
      "cell_type": "code",
      "metadata": {
        "id": "i37HJuLkFQ1p"
      },
      "source": [
        "values = df.values\n",
        "train, test = values[0:Tp,:], values[Tp:N,:]"
      ],
      "execution_count": null,
      "outputs": []
    },
    {
      "cell_type": "code",
      "metadata": {
        "id": "Yx_e3Q-NrMZb",
        "colab": {
          "base_uri": "https://localhost:8080/"
        },
        "outputId": "3884d5e6-b882-4802-996a-668290bdf31c"
      },
      "source": [
        "train.shape"
      ],
      "execution_count": null,
      "outputs": [
        {
          "output_type": "execute_result",
          "data": {
            "text/plain": [
              "(8000, 1)"
            ]
          },
          "metadata": {
            "tags": []
          },
          "execution_count": 102
        }
      ]
    },
    {
      "cell_type": "code",
      "metadata": {
        "id": "kPk8-95XrjpG",
        "colab": {
          "base_uri": "https://localhost:8080/"
        },
        "outputId": "89936c6a-9c64-47a3-d2ca-45ba8ca0745a"
      },
      "source": [
        "train"
      ],
      "execution_count": null,
      "outputs": [
        {
          "output_type": "execute_result",
          "data": {
            "text/plain": [
              "array([[1.3855302 ],\n",
              "       [2.00911763],\n",
              "       [1.759878  ],\n",
              "       ...,\n",
              "       [1.21642683],\n",
              "       [1.783548  ],\n",
              "       [1.93798423]])"
            ]
          },
          "metadata": {
            "tags": []
          },
          "execution_count": 103
        }
      ]
    },
    {
      "cell_type": "code",
      "metadata": {
        "id": "9z9YdsL1rO_W",
        "colab": {
          "base_uri": "https://localhost:8080/"
        },
        "outputId": "dfaec108-cb56-40d4-fb2c-cb97eaeea2cf"
      },
      "source": [
        "test.shape"
      ],
      "execution_count": null,
      "outputs": [
        {
          "output_type": "execute_result",
          "data": {
            "text/plain": [
              "(2000, 1)"
            ]
          },
          "metadata": {
            "tags": []
          },
          "execution_count": 104
        }
      ]
    },
    {
      "cell_type": "markdown",
      "metadata": {
        "id": "RfRRkuhdFVLa"
      },
      "source": [
        "## Preparing Data (Reshaping)\n",
        "\n",
        "RNN model requires a step value that contains the number of elements present in an input sequence. \n",
        "\n",
        "Here, we define it as a '**step**'. \n",
        "\n",
        "This is an important part of RNN so let's see an example:\n",
        "\n",
        "x has the following sequence data.\n",
        "\n",
        "x = [1,2,3,4,5,6,7,8,9,10]\n",
        "\n",
        "for step=1, \n",
        "x input and its y prediction become:\n",
        "\n",
        "x ----------  y\n",
        "\n",
        "1 ---------- 2\n",
        "\n",
        "2 ---------- 3\n",
        "\n",
        "3 ----------  4\n",
        "\n",
        "4 ---------- 5\n",
        "\n",
        "..\n",
        "\n",
        "9 ---------- 10\n",
        "\n",
        "\n",
        "for step = 3, \n",
        "x and y contain:\n",
        "\n",
        "x  ----------------- y\n",
        "\n",
        "1,2,3 ---------- 4\n",
        "\n",
        "2,3,4 ---------- 5\n",
        "\n",
        "3,4,5 ---------- 6\n",
        "\n",
        "4,5,6 ---------- 7\n",
        "\n",
        "...\n",
        "\n",
        "7,8,9 ---------- 10\n",
        "\n",
        "\n",
        "As you have noticed the sizes of x input and y output become different. \n",
        "We'll fix it by adding **step** size into the training and test data."
      ]
    },
    {
      "cell_type": "code",
      "metadata": {
        "id": "-Wj9a8q0qIe2"
      },
      "source": [
        "# Set the sequence step as 4 \n",
        "step = 4"
      ],
      "execution_count": null,
      "outputs": []
    },
    {
      "cell_type": "markdown",
      "metadata": {
        "id": "WjmFZ8Q1p8vV"
      },
      "source": [
        "### Reformat the Data to incorporate the Sequence Structure in the input"
      ]
    },
    {
      "cell_type": "code",
      "metadata": {
        "colab": {
          "base_uri": "https://localhost:8080/"
        },
        "id": "jHf0r-DjE2qt",
        "outputId": "d0fb2f86-0fe8-421c-ef31-d0b73989a392"
      },
      "source": [
        "train"
      ],
      "execution_count": null,
      "outputs": [
        {
          "output_type": "execute_result",
          "data": {
            "text/plain": [
              "array([[1.3855302 ],\n",
              "       [2.00911763],\n",
              "       [1.759878  ],\n",
              "       ...,\n",
              "       [1.21642683],\n",
              "       [1.783548  ],\n",
              "       [1.93798423]])"
            ]
          },
          "metadata": {
            "tags": []
          },
          "execution_count": 106
        }
      ]
    },
    {
      "cell_type": "code",
      "metadata": {
        "colab": {
          "base_uri": "https://localhost:8080/"
        },
        "id": "Mjg4LYw9EuQ1",
        "outputId": "05f607b9-0aea-4332-aac6-ffeee06e893e"
      },
      "source": [
        "# Last value of the data\n",
        "train[-1,]"
      ],
      "execution_count": null,
      "outputs": [
        {
          "output_type": "execute_result",
          "data": {
            "text/plain": [
              "array([1.93798423])"
            ]
          },
          "metadata": {
            "tags": []
          },
          "execution_count": 107
        }
      ]
    },
    {
      "cell_type": "code",
      "metadata": {
        "id": "BHywh87UFZ5k"
      },
      "source": [
        "# Add step elements into train and test\n",
        "# Repeat the last value 'step' number of times and append at the end of the existing data\n",
        "train = np.append(train, np.repeat(train[-1,], step)) \n",
        "test = np.append(test, np.repeat(test[-1,], step))"
      ],
      "execution_count": null,
      "outputs": []
    },
    {
      "cell_type": "code",
      "metadata": {
        "id": "YAXQuArrqfRt",
        "colab": {
          "base_uri": "https://localhost:8080/"
        },
        "outputId": "2048b583-8ec4-435a-e3e6-0e81a919b269"
      },
      "source": [
        "type(train)"
      ],
      "execution_count": null,
      "outputs": [
        {
          "output_type": "execute_result",
          "data": {
            "text/plain": [
              "numpy.ndarray"
            ]
          },
          "metadata": {
            "tags": []
          },
          "execution_count": 109
        }
      ]
    },
    {
      "cell_type": "code",
      "metadata": {
        "id": "Vh6h3p3uqiYQ",
        "colab": {
          "base_uri": "https://localhost:8080/"
        },
        "outputId": "3e1461de-4edd-4c6b-df06-5f4d0f2d6c3c"
      },
      "source": [
        "train.shape"
      ],
      "execution_count": null,
      "outputs": [
        {
          "output_type": "execute_result",
          "data": {
            "text/plain": [
              "(8004,)"
            ]
          },
          "metadata": {
            "tags": []
          },
          "execution_count": 110
        }
      ]
    },
    {
      "cell_type": "code",
      "metadata": {
        "id": "MmuWORA7qpBj",
        "colab": {
          "base_uri": "https://localhost:8080/"
        },
        "outputId": "9a7e08e7-4560-4b96-978a-580308ce1a96"
      },
      "source": [
        "train"
      ],
      "execution_count": null,
      "outputs": [
        {
          "output_type": "execute_result",
          "data": {
            "text/plain": [
              "array([1.3855302 , 2.00911763, 1.759878  , ..., 1.93798423, 1.93798423,\n",
              "       1.93798423])"
            ]
          },
          "metadata": {
            "tags": []
          },
          "execution_count": 111
        }
      ]
    },
    {
      "cell_type": "markdown",
      "metadata": {
        "id": "tCyxuOYPFdGJ"
      },
      "source": [
        "Next, we'll convert test and train data into the matrix with step value as it has been shown in the above example."
      ]
    },
    {
      "cell_type": "code",
      "metadata": {
        "id": "YuWzE1klFfqL"
      },
      "source": [
        "# Convert data into Train and Test Sequences\n",
        "# convert into dataset matrix\n",
        "def convertToMatrix(data, step):\n",
        " X, Y =[], []\n",
        " for i in range(len(data)-step):\n",
        "  d = i + step  \n",
        "  X.append(data[i:d,])\n",
        "  Y.append(data[d,])\n",
        " return np.array(X), np.array(Y)"
      ],
      "execution_count": null,
      "outputs": []
    },
    {
      "cell_type": "code",
      "metadata": {
        "id": "WUDBK9plFib8"
      },
      "source": [
        "trainX, trainY = convertToMatrix(train,step)\n",
        "testX, testY = convertToMatrix(test,step)"
      ],
      "execution_count": null,
      "outputs": []
    },
    {
      "cell_type": "code",
      "metadata": {
        "id": "RXqInbMD228t",
        "colab": {
          "base_uri": "https://localhost:8080/"
        },
        "outputId": "30f4c400-70b3-4874-f7a0-2d75bd51bb88"
      },
      "source": [
        "trainX.shape"
      ],
      "execution_count": null,
      "outputs": [
        {
          "output_type": "execute_result",
          "data": {
            "text/plain": [
              "(8000, 4)"
            ]
          },
          "metadata": {
            "tags": []
          },
          "execution_count": 114
        }
      ]
    },
    {
      "cell_type": "code",
      "metadata": {
        "id": "ADY0SEsx24Uj",
        "colab": {
          "base_uri": "https://localhost:8080/"
        },
        "outputId": "39f6cb09-f6f2-4394-ded2-b129375269eb"
      },
      "source": [
        "trainY.shape"
      ],
      "execution_count": null,
      "outputs": [
        {
          "output_type": "execute_result",
          "data": {
            "text/plain": [
              "(8000,)"
            ]
          },
          "metadata": {
            "tags": []
          },
          "execution_count": 115
        }
      ]
    },
    {
      "cell_type": "code",
      "metadata": {
        "id": "_obhoH4R3Dpx",
        "colab": {
          "base_uri": "https://localhost:8080/"
        },
        "outputId": "b63f4e84-a2a7-45ee-ae6d-a32197acd521"
      },
      "source": [
        "trainX"
      ],
      "execution_count": null,
      "outputs": [
        {
          "output_type": "execute_result",
          "data": {
            "text/plain": [
              "array([[1.3855302 , 2.00911763, 1.759878  , 1.40706613],\n",
              "       [2.00911763, 1.759878  , 1.40706613, 0.10855828],\n",
              "       [1.759878  , 1.40706613, 0.10855828, 0.99300598],\n",
              "       ...,\n",
              "       [1.21642683, 1.783548  , 1.93798423, 1.93798423],\n",
              "       [1.783548  , 1.93798423, 1.93798423, 1.93798423],\n",
              "       [1.93798423, 1.93798423, 1.93798423, 1.93798423]])"
            ]
          },
          "metadata": {
            "tags": []
          },
          "execution_count": 116
        }
      ]
    },
    {
      "cell_type": "markdown",
      "metadata": {
        "id": "jyb3nu1QshNg"
      },
      "source": [
        "### Reshape in the way required by a Keras RNN Model"
      ]
    },
    {
      "cell_type": "markdown",
      "metadata": {
        "id": "Ykrxqg04FmVr"
      },
      "source": [
        "Finally, we'll reshape trainX and testX to fit with the Keras model. \n",
        "\n",
        "RNN model requires three-dimensional input data. You can see the shape of testX below."
      ]
    },
    {
      "cell_type": "code",
      "metadata": {
        "id": "tG9PSPXTFoxy",
        "colab": {
          "base_uri": "https://localhost:8080/"
        },
        "outputId": "78384509-0ba7-4f02-b886-aa0ce1feaa84"
      },
      "source": [
        "# Total number of sampls x one sample at a time x sequence length for one sample\n",
        "trainX = np.reshape(trainX, (trainX.shape[0], 1, trainX.shape[1]))\n",
        "testX = np.reshape(testX, (testX.shape[0], 1, testX.shape[1]))\n",
        "\n",
        "trainX.shape"
      ],
      "execution_count": null,
      "outputs": [
        {
          "output_type": "execute_result",
          "data": {
            "text/plain": [
              "(8000, 1, 4)"
            ]
          },
          "metadata": {
            "tags": []
          },
          "execution_count": 117
        }
      ]
    },
    {
      "cell_type": "code",
      "metadata": {
        "id": "Ap4bsKYlqN3T",
        "colab": {
          "base_uri": "https://localhost:8080/"
        },
        "outputId": "ded80baa-f56d-40ee-d1fc-7dd77a39fe30"
      },
      "source": [
        "trainX[0]"
      ],
      "execution_count": null,
      "outputs": [
        {
          "output_type": "execute_result",
          "data": {
            "text/plain": [
              "array([[1.3855302 , 2.00911763, 1.759878  , 1.40706613]])"
            ]
          },
          "metadata": {
            "tags": []
          },
          "execution_count": 118
        }
      ]
    },
    {
      "cell_type": "markdown",
      "metadata": {
        "id": "0-om7z7RFri5"
      },
      "source": [
        "\n",
        "### Build the RNN Model with SimpleRNN\n",
        "\n",
        "Next, we create the keras Sequential model."
      ]
    },
    {
      "cell_type": "code",
      "metadata": {
        "id": "q-DiS1z7Ft1j",
        "colab": {
          "base_uri": "https://localhost:8080/"
        },
        "outputId": "c48ed8af-c885-4d7e-ee71-527fd1b8f297"
      },
      "source": [
        "# SimpleRNN model\n",
        "model = Sequential()\n",
        "\n",
        "# num_units = no of hidden units = output dimension\n",
        "# units = Positive integer, dimensionality of the output space.    \n",
        "# Numer of parameters\n",
        "# num_params = [(num_units + input_dim + 1) * num_units]  \n",
        "\n",
        "#model.add(SimpleRNN(units=32, input_shape=(1,step), activation=\"relu\"))\n",
        "model.add(SimpleRNN(units=32, input_length =1, input_dim=step, activation=\"relu\"))\n",
        "\n",
        "model.add(Dense(8, activation=\"relu\")) \n",
        "model.add(Dense(1))\n",
        "model.compile(loss='mean_squared_error', optimizer='rmsprop')\n",
        "model.summary()"
      ],
      "execution_count": null,
      "outputs": [
        {
          "output_type": "stream",
          "text": [
            "Model: \"sequential_3\"\n",
            "_________________________________________________________________\n",
            "Layer (type)                 Output Shape              Param #   \n",
            "=================================================================\n",
            "simple_rnn_3 (SimpleRNN)     (None, 32)                1184      \n",
            "_________________________________________________________________\n",
            "dense_6 (Dense)              (None, 8)                 264       \n",
            "_________________________________________________________________\n",
            "dense_7 (Dense)              (None, 1)                 9         \n",
            "=================================================================\n",
            "Total params: 1,457\n",
            "Trainable params: 1,457\n",
            "Non-trainable params: 0\n",
            "_________________________________________________________________\n"
          ],
          "name": "stdout"
        }
      ]
    },
    {
      "cell_type": "markdown",
      "metadata": {
        "id": "ikcOQsbAFxG4"
      },
      "source": [
        "### Train the RNN\n",
        "\n",
        "We'll fit model with the training data."
      ]
    },
    {
      "cell_type": "code",
      "metadata": {
        "id": "FyGoII7kFzgl",
        "colab": {
          "base_uri": "https://localhost:8080/"
        },
        "outputId": "bc83eddb-9425-4fd2-b824-423fb9975a30"
      },
      "source": [
        "# Train the Model\n",
        "model.fit(trainX, trainY, epochs=100, batch_size=16, verbose=2)\n"
      ],
      "execution_count": null,
      "outputs": [
        {
          "output_type": "stream",
          "text": [
            "Epoch 1/100\n",
            "500/500 - 1s - loss: 0.4301\n",
            "Epoch 2/100\n",
            "500/500 - 0s - loss: 0.3993\n",
            "Epoch 3/100\n",
            "500/500 - 0s - loss: 0.3972\n",
            "Epoch 4/100\n",
            "500/500 - 0s - loss: 0.3954\n",
            "Epoch 5/100\n",
            "500/500 - 0s - loss: 0.3938\n",
            "Epoch 6/100\n",
            "500/500 - 0s - loss: 0.3925\n",
            "Epoch 7/100\n",
            "500/500 - 0s - loss: 0.3914\n",
            "Epoch 8/100\n",
            "500/500 - 0s - loss: 0.3894\n",
            "Epoch 9/100\n",
            "500/500 - 0s - loss: 0.3886\n",
            "Epoch 10/100\n",
            "500/500 - 0s - loss: 0.3872\n",
            "Epoch 11/100\n",
            "500/500 - 1s - loss: 0.3860\n",
            "Epoch 12/100\n",
            "500/500 - 0s - loss: 0.3855\n",
            "Epoch 13/100\n",
            "500/500 - 0s - loss: 0.3848\n",
            "Epoch 14/100\n",
            "500/500 - 0s - loss: 0.3842\n",
            "Epoch 15/100\n",
            "500/500 - 0s - loss: 0.3839\n",
            "Epoch 16/100\n",
            "500/500 - 0s - loss: 0.3834\n",
            "Epoch 17/100\n",
            "500/500 - 0s - loss: 0.3820\n",
            "Epoch 18/100\n",
            "500/500 - 0s - loss: 0.3823\n",
            "Epoch 19/100\n",
            "500/500 - 0s - loss: 0.3820\n",
            "Epoch 20/100\n",
            "500/500 - 0s - loss: 0.3813\n",
            "Epoch 21/100\n",
            "500/500 - 0s - loss: 0.3813\n",
            "Epoch 22/100\n",
            "500/500 - 0s - loss: 0.3805\n",
            "Epoch 23/100\n",
            "500/500 - 0s - loss: 0.3805\n",
            "Epoch 24/100\n",
            "500/500 - 0s - loss: 0.3799\n",
            "Epoch 25/100\n",
            "500/500 - 0s - loss: 0.3794\n",
            "Epoch 26/100\n",
            "500/500 - 0s - loss: 0.3796\n",
            "Epoch 27/100\n",
            "500/500 - 0s - loss: 0.3790\n",
            "Epoch 28/100\n",
            "500/500 - 0s - loss: 0.3790\n",
            "Epoch 29/100\n",
            "500/500 - 0s - loss: 0.3785\n",
            "Epoch 30/100\n",
            "500/500 - 0s - loss: 0.3778\n",
            "Epoch 31/100\n",
            "500/500 - 0s - loss: 0.3787\n",
            "Epoch 32/100\n",
            "500/500 - 0s - loss: 0.3777\n",
            "Epoch 33/100\n",
            "500/500 - 0s - loss: 0.3774\n",
            "Epoch 34/100\n",
            "500/500 - 1s - loss: 0.3781\n",
            "Epoch 35/100\n",
            "500/500 - 0s - loss: 0.3778\n",
            "Epoch 36/100\n",
            "500/500 - 0s - loss: 0.3765\n",
            "Epoch 37/100\n",
            "500/500 - 0s - loss: 0.3772\n",
            "Epoch 38/100\n",
            "500/500 - 0s - loss: 0.3774\n",
            "Epoch 39/100\n",
            "500/500 - 0s - loss: 0.3769\n",
            "Epoch 40/100\n",
            "500/500 - 0s - loss: 0.3770\n",
            "Epoch 41/100\n",
            "500/500 - 0s - loss: 0.3766\n",
            "Epoch 42/100\n",
            "500/500 - 0s - loss: 0.3755\n",
            "Epoch 43/100\n",
            "500/500 - 0s - loss: 0.3763\n",
            "Epoch 44/100\n",
            "500/500 - 0s - loss: 0.3759\n",
            "Epoch 45/100\n",
            "500/500 - 0s - loss: 0.3761\n",
            "Epoch 46/100\n",
            "500/500 - 0s - loss: 0.3762\n",
            "Epoch 47/100\n",
            "500/500 - 0s - loss: 0.3753\n",
            "Epoch 48/100\n",
            "500/500 - 0s - loss: 0.3758\n",
            "Epoch 49/100\n",
            "500/500 - 0s - loss: 0.3757\n",
            "Epoch 50/100\n",
            "500/500 - 0s - loss: 0.3755\n",
            "Epoch 51/100\n",
            "500/500 - 0s - loss: 0.3756\n",
            "Epoch 52/100\n",
            "500/500 - 0s - loss: 0.3763\n",
            "Epoch 53/100\n",
            "500/500 - 0s - loss: 0.3754\n",
            "Epoch 54/100\n",
            "500/500 - 0s - loss: 0.3753\n",
            "Epoch 55/100\n",
            "500/500 - 0s - loss: 0.3750\n",
            "Epoch 56/100\n",
            "500/500 - 0s - loss: 0.3751\n",
            "Epoch 57/100\n",
            "500/500 - 0s - loss: 0.3754\n",
            "Epoch 58/100\n",
            "500/500 - 0s - loss: 0.3755\n",
            "Epoch 59/100\n",
            "500/500 - 0s - loss: 0.3750\n",
            "Epoch 60/100\n",
            "500/500 - 0s - loss: 0.3748\n",
            "Epoch 61/100\n",
            "500/500 - 0s - loss: 0.3746\n",
            "Epoch 62/100\n",
            "500/500 - 0s - loss: 0.3750\n",
            "Epoch 63/100\n",
            "500/500 - 0s - loss: 0.3745\n",
            "Epoch 64/100\n",
            "500/500 - 0s - loss: 0.3747\n",
            "Epoch 65/100\n",
            "500/500 - 0s - loss: 0.3734\n",
            "Epoch 66/100\n",
            "500/500 - 0s - loss: 0.3752\n",
            "Epoch 67/100\n",
            "500/500 - 0s - loss: 0.3742\n",
            "Epoch 68/100\n",
            "500/500 - 1s - loss: 0.3742\n",
            "Epoch 69/100\n",
            "500/500 - 0s - loss: 0.3745\n",
            "Epoch 70/100\n",
            "500/500 - 0s - loss: 0.3735\n",
            "Epoch 71/100\n",
            "500/500 - 0s - loss: 0.3746\n",
            "Epoch 72/100\n",
            "500/500 - 0s - loss: 0.3740\n",
            "Epoch 73/100\n",
            "500/500 - 0s - loss: 0.3738\n",
            "Epoch 74/100\n",
            "500/500 - 0s - loss: 0.3739\n",
            "Epoch 75/100\n",
            "500/500 - 0s - loss: 0.3733\n",
            "Epoch 76/100\n",
            "500/500 - 0s - loss: 0.3746\n",
            "Epoch 77/100\n",
            "500/500 - 0s - loss: 0.3742\n",
            "Epoch 78/100\n",
            "500/500 - 0s - loss: 0.3732\n",
            "Epoch 79/100\n",
            "500/500 - 0s - loss: 0.3737\n",
            "Epoch 80/100\n",
            "500/500 - 0s - loss: 0.3731\n",
            "Epoch 81/100\n",
            "500/500 - 0s - loss: 0.3741\n",
            "Epoch 82/100\n",
            "500/500 - 1s - loss: 0.3735\n",
            "Epoch 83/100\n",
            "500/500 - 0s - loss: 0.3725\n",
            "Epoch 84/100\n",
            "500/500 - 0s - loss: 0.3729\n",
            "Epoch 85/100\n",
            "500/500 - 0s - loss: 0.3729\n",
            "Epoch 86/100\n",
            "500/500 - 0s - loss: 0.3737\n",
            "Epoch 87/100\n",
            "500/500 - 0s - loss: 0.3733\n",
            "Epoch 88/100\n",
            "500/500 - 0s - loss: 0.3731\n",
            "Epoch 89/100\n",
            "500/500 - 0s - loss: 0.3732\n",
            "Epoch 90/100\n",
            "500/500 - 0s - loss: 0.3729\n",
            "Epoch 91/100\n",
            "500/500 - 0s - loss: 0.3730\n",
            "Epoch 92/100\n",
            "500/500 - 0s - loss: 0.3730\n",
            "Epoch 93/100\n",
            "500/500 - 0s - loss: 0.3732\n",
            "Epoch 94/100\n",
            "500/500 - 0s - loss: 0.3725\n",
            "Epoch 95/100\n",
            "500/500 - 0s - loss: 0.3730\n",
            "Epoch 96/100\n",
            "500/500 - 0s - loss: 0.3725\n",
            "Epoch 97/100\n",
            "500/500 - 0s - loss: 0.3724\n",
            "Epoch 98/100\n",
            "500/500 - 0s - loss: 0.3728\n",
            "Epoch 99/100\n",
            "500/500 - 1s - loss: 0.3725\n",
            "Epoch 100/100\n",
            "500/500 - 1s - loss: 0.3733\n"
          ],
          "name": "stdout"
        },
        {
          "output_type": "execute_result",
          "data": {
            "text/plain": [
              "<tensorflow.python.keras.callbacks.History at 0x7fd34b806950>"
            ]
          },
          "metadata": {
            "tags": []
          },
          "execution_count": 120
        }
      ]
    },
    {
      "cell_type": "markdown",
      "metadata": {
        "id": "iX8rMEbwoZGJ"
      },
      "source": [
        "## Make Prediction on both Training and Test Data"
      ]
    },
    {
      "cell_type": "code",
      "metadata": {
        "id": "a9luS1_BoQnH"
      },
      "source": [
        "# Predict on the Training Set\n",
        "trainPredict = model.predict(trainX)\n",
        "\n",
        "# Predict on the Test Set\n",
        "testPredict = model.predict(testX)\n",
        "\n",
        "# Concetenate the results of the Training and Test Sets\n",
        "predicted = np.concatenate((trainPredict, testPredict), axis=0)"
      ],
      "execution_count": null,
      "outputs": []
    },
    {
      "cell_type": "markdown",
      "metadata": {
        "id": "xxB0Y3mdF2Ua"
      },
      "source": [
        "\n",
        "### Check the Loss\n",
        "\n",
        "Next, we'll check the loss"
      ]
    },
    {
      "cell_type": "code",
      "metadata": {
        "id": "MaeBB0L7F4go",
        "colab": {
          "base_uri": "https://localhost:8080/"
        },
        "outputId": "9777f0a4-05bf-43f9-d8c5-a69ddf4b341e"
      },
      "source": [
        "trainScore = model.evaluate(trainX, trainY, verbose=0)\n",
        "print(trainScore)"
      ],
      "execution_count": null,
      "outputs": [
        {
          "output_type": "stream",
          "text": [
            "0.36918506026268005\n"
          ],
          "name": "stdout"
        }
      ]
    },
    {
      "cell_type": "code",
      "metadata": {
        "id": "Yffw3dIVonN2",
        "colab": {
          "base_uri": "https://localhost:8080/"
        },
        "outputId": "652edd07-7c6a-4d82-bb6d-610feaa73606"
      },
      "source": [
        "testScore = model.evaluate(testX, testY, verbose=0)\n",
        "print(testScore)"
      ],
      "execution_count": null,
      "outputs": [
        {
          "output_type": "stream",
          "text": [
            "0.39423540234565735\n"
          ],
          "name": "stdout"
        }
      ]
    },
    {
      "cell_type": "markdown",
      "metadata": {
        "id": "j1EewZTcovXC"
      },
      "source": [
        "### Plot the Results"
      ]
    },
    {
      "cell_type": "code",
      "metadata": {
        "colab": {
          "base_uri": "https://localhost:8080/",
          "height": 407
        },
        "id": "c56AegpGG7yQ",
        "outputId": "f707541a-0e45-4ef6-af78-fabd45497f26"
      },
      "source": [
        "df"
      ],
      "execution_count": null,
      "outputs": [
        {
          "output_type": "execute_result",
          "data": {
            "text/html": [
              "<div>\n",
              "<style scoped>\n",
              "    .dataframe tbody tr th:only-of-type {\n",
              "        vertical-align: middle;\n",
              "    }\n",
              "\n",
              "    .dataframe tbody tr th {\n",
              "        vertical-align: top;\n",
              "    }\n",
              "\n",
              "    .dataframe thead th {\n",
              "        text-align: right;\n",
              "    }\n",
              "</style>\n",
              "<table border=\"1\" class=\"dataframe\">\n",
              "  <thead>\n",
              "    <tr style=\"text-align: right;\">\n",
              "      <th></th>\n",
              "      <th>0</th>\n",
              "    </tr>\n",
              "  </thead>\n",
              "  <tbody>\n",
              "    <tr>\n",
              "      <th>0</th>\n",
              "      <td>1.385530</td>\n",
              "    </tr>\n",
              "    <tr>\n",
              "      <th>1</th>\n",
              "      <td>2.009118</td>\n",
              "    </tr>\n",
              "    <tr>\n",
              "      <th>2</th>\n",
              "      <td>1.759878</td>\n",
              "    </tr>\n",
              "    <tr>\n",
              "      <th>3</th>\n",
              "      <td>1.407066</td>\n",
              "    </tr>\n",
              "    <tr>\n",
              "      <th>4</th>\n",
              "      <td>0.108558</td>\n",
              "    </tr>\n",
              "    <tr>\n",
              "      <th>...</th>\n",
              "      <td>...</td>\n",
              "    </tr>\n",
              "    <tr>\n",
              "      <th>9995</th>\n",
              "      <td>0.099093</td>\n",
              "    </tr>\n",
              "    <tr>\n",
              "      <th>9996</th>\n",
              "      <td>0.609278</td>\n",
              "    </tr>\n",
              "    <tr>\n",
              "      <th>9997</th>\n",
              "      <td>0.080405</td>\n",
              "    </tr>\n",
              "    <tr>\n",
              "      <th>9998</th>\n",
              "      <td>-0.109674</td>\n",
              "    </tr>\n",
              "    <tr>\n",
              "      <th>9999</th>\n",
              "      <td>-0.635779</td>\n",
              "    </tr>\n",
              "  </tbody>\n",
              "</table>\n",
              "<p>10000 rows × 1 columns</p>\n",
              "</div>"
            ],
            "text/plain": [
              "             0\n",
              "0     1.385530\n",
              "1     2.009118\n",
              "2     1.759878\n",
              "3     1.407066\n",
              "4     0.108558\n",
              "...        ...\n",
              "9995  0.099093\n",
              "9996  0.609278\n",
              "9997  0.080405\n",
              "9998 -0.109674\n",
              "9999 -0.635779\n",
              "\n",
              "[10000 rows x 1 columns]"
            ]
          },
          "metadata": {
            "tags": []
          },
          "execution_count": 124
        }
      ]
    },
    {
      "cell_type": "markdown",
      "metadata": {
        "id": "1xeo-NzoF7b7"
      },
      "source": [
        "Finally, we check the result in a plot. A vertical line in a plot identifies a splitting point between the training and the test part.\n"
      ]
    },
    {
      "cell_type": "code",
      "metadata": {
        "id": "yn5jG9XlF9eS",
        "colab": {
          "base_uri": "https://localhost:8080/",
          "height": 592
        },
        "outputId": "362a12ed-1869-41b4-c085-5e855724982d"
      },
      "source": [
        "plt.figure(figsize=(15,10))\n",
        "index = df.index.values\n",
        "# Actual timeseries values\n",
        "plt.plot(index, df[0], c='b')\n",
        "# Predicted values by the RNN\n",
        "plt.plot(index, predicted, c='r')\n",
        "# Train/Test demarcation\n",
        "plt.axvline(df.index[Tp], c=\"g\")\n",
        "plt.show() "
      ],
      "execution_count": null,
      "outputs": [
        {
          "output_type": "display_data",
          "data": {
            "image/png": "[encoded data removed]",
            "text/plain": [
              "<Figure size 1080x720 with 1 Axes>"
            ]
          },
          "metadata": {
            "tags": [],
            "needs_background": "light"
          }
        }
      ]
    }
  ]
}